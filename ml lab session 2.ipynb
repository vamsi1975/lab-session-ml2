{
 "cells": [
  {
   "cell_type": "code",
   "execution_count": 41,
   "id": "b66cf53e-fe4c-4af6-b5ef-3f5ee852dad7",
   "metadata": {},
   "outputs": [],
   "source": [
    "A = pd.read_excel('Lab Session Data.xlsx',usecols=[1,2,3])"
   ]
  },
  {
   "cell_type": "code",
   "execution_count": 43,
   "id": "86a7beef-b736-4cdb-ad66-789b3db6beb0",
   "metadata": {},
   "outputs": [],
   "source": [
    "B = pd.read_excel('Lab Session Data.xlsx',usecols=[4])\n"
   ]
  },
  {
   "cell_type": "code",
   "execution_count": 45,
   "id": "1d41b6f7-fcbd-4435-9b96-bc854feef09d",
   "metadata": {},
   "outputs": [
    {
     "data": {
      "text/html": [
       "<div>\n",
       "<style scoped>\n",
       "    .dataframe tbody tr th:only-of-type {\n",
       "        vertical-align: middle;\n",
       "    }\n",
       "\n",
       "    .dataframe tbody tr th {\n",
       "        vertical-align: top;\n",
       "    }\n",
       "\n",
       "    .dataframe thead th {\n",
       "        text-align: right;\n",
       "    }\n",
       "</style>\n",
       "<table border=\"1\" class=\"dataframe\">\n",
       "  <thead>\n",
       "    <tr style=\"text-align: right;\">\n",
       "      <th></th>\n",
       "      <th>Candies (#)</th>\n",
       "      <th>Mangoes (Kg)</th>\n",
       "      <th>Milk Packets (#)</th>\n",
       "    </tr>\n",
       "  </thead>\n",
       "  <tbody>\n",
       "    <tr>\n",
       "      <th>0</th>\n",
       "      <td>20</td>\n",
       "      <td>6</td>\n",
       "      <td>2</td>\n",
       "    </tr>\n",
       "    <tr>\n",
       "      <th>1</th>\n",
       "      <td>16</td>\n",
       "      <td>3</td>\n",
       "      <td>6</td>\n",
       "    </tr>\n",
       "    <tr>\n",
       "      <th>2</th>\n",
       "      <td>27</td>\n",
       "      <td>6</td>\n",
       "      <td>2</td>\n",
       "    </tr>\n",
       "    <tr>\n",
       "      <th>3</th>\n",
       "      <td>19</td>\n",
       "      <td>1</td>\n",
       "      <td>2</td>\n",
       "    </tr>\n",
       "    <tr>\n",
       "      <th>4</th>\n",
       "      <td>24</td>\n",
       "      <td>4</td>\n",
       "      <td>2</td>\n",
       "    </tr>\n",
       "  </tbody>\n",
       "</table>\n",
       "</div>"
      ],
      "text/plain": [
       "   Candies (#)  Mangoes (Kg)  Milk Packets (#)\n",
       "0           20             6                 2\n",
       "1           16             3                 6\n",
       "2           27             6                 2\n",
       "3           19             1                 2\n",
       "4           24             4                 2"
      ]
     },
     "execution_count": 45,
     "metadata": {},
     "output_type": "execute_result"
    }
   ],
   "source": [
    "A.head()"
   ]
  },
  {
   "cell_type": "code",
   "execution_count": 47,
   "id": "2a95f046-292a-4756-885e-21a92ff8f6ff",
   "metadata": {},
   "outputs": [
    {
     "data": {
      "text/html": [
       "<div>\n",
       "<style scoped>\n",
       "    .dataframe tbody tr th:only-of-type {\n",
       "        vertical-align: middle;\n",
       "    }\n",
       "\n",
       "    .dataframe tbody tr th {\n",
       "        vertical-align: top;\n",
       "    }\n",
       "\n",
       "    .dataframe thead th {\n",
       "        text-align: right;\n",
       "    }\n",
       "</style>\n",
       "<table border=\"1\" class=\"dataframe\">\n",
       "  <thead>\n",
       "    <tr style=\"text-align: right;\">\n",
       "      <th></th>\n",
       "      <th>Payment (Rs)</th>\n",
       "    </tr>\n",
       "  </thead>\n",
       "  <tbody>\n",
       "    <tr>\n",
       "      <th>0</th>\n",
       "      <td>386</td>\n",
       "    </tr>\n",
       "    <tr>\n",
       "      <th>1</th>\n",
       "      <td>289</td>\n",
       "    </tr>\n",
       "    <tr>\n",
       "      <th>2</th>\n",
       "      <td>393</td>\n",
       "    </tr>\n",
       "    <tr>\n",
       "      <th>3</th>\n",
       "      <td>110</td>\n",
       "    </tr>\n",
       "    <tr>\n",
       "      <th>4</th>\n",
       "      <td>280</td>\n",
       "    </tr>\n",
       "  </tbody>\n",
       "</table>\n",
       "</div>"
      ],
      "text/plain": [
       "   Payment (Rs)\n",
       "0           386\n",
       "1           289\n",
       "2           393\n",
       "3           110\n",
       "4           280"
      ]
     },
     "execution_count": 47,
     "metadata": {},
     "output_type": "execute_result"
    }
   ],
   "source": [
    "B.head()"
   ]
  },
  {
   "cell_type": "code",
   "execution_count": 68,
   "id": "dbdf5712-3ca1-4ec7-a1c8-13c65875d6bb",
   "metadata": {},
   "outputs": [],
   "source": [
    "C= np.linalg.pinv(A)"
   ]
  },
  {
   "cell_type": "code",
   "execution_count": 70,
   "id": "423981dd-1178-4502-9bc0-9c516da7ae5b",
   "metadata": {},
   "outputs": [],
   "source": [
    "X=np.dot(C,B)"
   ]
  },
  {
   "cell_type": "code",
   "execution_count": 72,
   "id": "ff20cf7f-1f72-4979-85ef-e63c054262d7",
   "metadata": {},
   "outputs": [
    {
     "data": {
      "text/plain": [
       "array([[ 1.],\n",
       "       [55.],\n",
       "       [18.]])"
      ]
     },
     "execution_count": 72,
     "metadata": {},
     "output_type": "execute_result"
    }
   ],
   "source": [
    "X\n"
   ]
  },
  {
   "cell_type": "code",
   "execution_count": 74,
   "id": "b4534066-c8d5-4c37-bea7-f57eecd67f92",
   "metadata": {},
   "outputs": [
    {
     "data": {
      "text/plain": [
       "2"
      ]
     },
     "execution_count": 74,
     "metadata": {},
     "output_type": "execute_result"
    }
   ],
   "source": [
    "X.ndim"
   ]
  },
  {
   "cell_type": "code",
   "execution_count": 76,
   "id": "4a4ac19a-acbe-4d5a-bb54-b9ecec9a42d6",
   "metadata": {},
   "outputs": [
    {
     "data": {
      "text/plain": [
       "1"
      ]
     },
     "execution_count": 76,
     "metadata": {},
     "output_type": "execute_result"
    }
   ],
   "source": [
    "np.linalg.matrix_rank(X)"
   ]
  },
  {
   "cell_type": "code",
   "execution_count": 87,
   "id": "db4488be-2844-4cc6-9943-364d4c8a6b5d",
   "metadata": {},
   "outputs": [
    {
     "data": {
      "text/plain": [
       "array([[-0.01008596, -0.03124505,  0.01013951,  0.0290728 ,  0.0182907 ,\n",
       "         0.01161794, -0.00771348,  0.00095458,  0.01743623, -0.00542016],\n",
       "       [ 0.09059668,  0.07263726,  0.03172933, -0.09071908, -0.01893196,\n",
       "        -0.06926996,  0.05675464,  0.03152577, -0.07641966,  0.00357352],\n",
       "       [ 0.00299878,  0.15874243, -0.05795468, -0.06609024, -0.06295043,\n",
       "         0.03348017,  0.01541831, -0.01070461,  0.00029003,  0.05938755]])"
      ]
     },
     "execution_count": 87,
     "metadata": {},
     "output_type": "execute_result"
    }
   ],
   "source": [
    "(np.linalg.pinv(A))"
   ]
  },
  {
   "cell_type": "code",
   "execution_count": null,
   "id": "787839c0-ce65-4b3f-966a-9e4aff42f0ee",
   "metadata": {},
   "outputs": [],
   "source": []
  }
 ],
 "metadata": {
  "kernelspec": {
   "display_name": "Python 3 (ipykernel)",
   "language": "python",
   "name": "python3"
  },
  "language_info": {
   "codemirror_mode": {
    "name": "ipython",
    "version": 3
   },
   "file_extension": ".py",
   "mimetype": "text/x-python",
   "name": "python",
   "nbconvert_exporter": "python",
   "pygments_lexer": "ipython3",
   "version": "3.11.4"
  }
 },
 "nbformat": 4,
 "nbformat_minor": 5
}
